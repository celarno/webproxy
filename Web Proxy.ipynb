{
 "cells": [
  {
   "cell_type": "markdown",
   "metadata": {},
   "source": [
    "# Simple Web Proxy"
   ]
  },
  {
   "cell_type": "code",
   "execution_count": 2,
   "metadata": {},
   "outputs": [],
   "source": [
    "import os\n",
    "import re\n",
    "import sys\n",
    "import base64\n",
    "import requests\n",
    "import pandas as pd\n",
    "from bs4 import BeautifulSoup\n",
    "from lxml import html"
   ]
  },
  {
   "cell_type": "code",
   "execution_count": null,
   "metadata": {},
   "outputs": [],
   "source": [
    "sudoPassword = input(\"Password: \")"
   ]
  },
  {
   "cell_type": "code",
   "execution_count": null,
   "metadata": {},
   "outputs": [],
   "source": [
    "def render(source_url):\n",
    "    \n",
    "    from PyQt5.QtWidgets import QApplication\n",
    "    from PyQt5.QtCore import QUrl\n",
    "    from PyQt5.QtWebEngineWidgets import QWebEngineView\n",
    "\n",
    "    class Render(QWebEngineView):\n",
    "        def __init__(self, url):\n",
    "            self.html = None\n",
    "            self.app = QApplication(sys.argv)\n",
    "            QWebEngineView.__init__(self)\n",
    "            self.loadFinished.connect(self._loadFinished)\n",
    "            #self.setHtml(html)\n",
    "            self.load(QUrl(url))\n",
    "            self.app.exec_()\n",
    "\n",
    "        def _loadFinished(self, result):\n",
    "        # This is an async call, you need to wait for this\n",
    "        # to be called before closing the app\n",
    "            self.page().toHtml(self._callable)\n",
    "\n",
    "        def _callable(self, data):\n",
    "            self.html = data\n",
    "            # Data has been stored, it's safe to quit the app\n",
    "            self.app.quit()\n",
    "\n",
    "    return Render(source_url).html"
   ]
  },
  {
   "cell_type": "code",
   "execution_count": 5,
   "metadata": {},
   "outputs": [
    {
     "name": "stdout",
     "output_type": "stream",
     "text": [
      "Current Proxy Settings:\n",
      "\n",
      "\n",
      "\n",
      "Choose option:\n",
      "\n",
      "\t(1) GB\n",
      "\t(2) DE\n",
      "\t(3) AT\n",
      "\t(4) Other\n",
      "\n",
      "\t(9) SWITCH OFF\n",
      "\t(0) exit\n",
      "3\n"
     ]
    }
   ],
   "source": [
    "print(\"Current Proxy Settings:\\n\")\n",
    "os.system(\"networksetup -getsecurewebproxy Wi-Fi\")\n",
    "print(\"\\n\\nChoose option:\")\n",
    "var = int(input(\"\\n\\t(1) GB\\n\\t(2) DE\\n\\t(3) AT\\n\\t(4) Other\\n\\n\\t(9) SWITCH OFF\\n\\t(0) exit\\n\"))"
   ]
  },
  {
   "cell_type": "code",
   "execution_count": 6,
   "metadata": {},
   "outputs": [],
   "source": [
    "if var > 0 and var < 4:\n",
    "\tif var == 1:\n",
    "\t\turl = \"http://spys.one/free-proxy-list/GB/\"\n",
    "\tif var == 2:\n",
    "\t\turl = \"http://spys.one/free-proxy-list/DE/\"\n",
    "\tif var == 3:\n",
    "\t\turl = \"http://spys.one/free-proxy-list/AT/\"\n",
    "\tif var == 4:\n",
    "\t\turl = \"http://spys.one/en/https-ssl-proxy/\"\n",
    "\n",
    "\tr = render(url)"
   ]
  },
  {
   "cell_type": "code",
   "execution_count": 7,
   "metadata": {},
   "outputs": [],
   "source": [
    "soup = BeautifulSoup(r, \"lxml\")"
   ]
  },
  {
   "cell_type": "code",
   "execution_count": 8,
   "metadata": {},
   "outputs": [],
   "source": [
    "table = soup.find_all('table')[1].find('table')\n",
    "rows = table.find_all('tr', {'class': re.compile(r'^spy')})[3:]  #rows = table.find_all('tr')[3:]\n",
    "rows = rows[:-1] # remove last row"
   ]
  },
  {
   "cell_type": "code",
   "execution_count": 9,
   "metadata": {},
   "outputs": [
    {
     "name": "stdout",
     "output_type": "stream",
     "text": [
      "{'Address': [], 'Type': [], 'Anonymity': [], 'Country': [], 'Name': [], 'Latency': [], 'Speed': [], 'Uptime': [], 'Checkdate': []}\n"
     ]
    }
   ],
   "source": [
    "# headers of dataframe\n",
    "data = {\n",
    "\t'Address' : [],\n",
    "\t'Type' : [],\n",
    "\t'Anonymity' : [],\n",
    "\t'Country' : [],\n",
    "\t'Name' : [],\n",
    "\t'Latency' : [],\n",
    "\t'Speed' : [],\n",
    "\t'Uptime' : [],\n",
    "\t'Checkdate' : []\n",
    "\t}\n",
    "print(data)"
   ]
  },
  {
   "cell_type": "code",
   "execution_count": 10,
   "metadata": {},
   "outputs": [],
   "source": [
    "# filling columns\n",
    "for row in rows:\n",
    "    cols = row.find_all('td')\n",
    "    data['Address'].append(cols[0].get_text())\n",
    "    data['Type'].append(cols[1].get_text())\n",
    "    data['Anonymity'].append(cols[2].get_text())\n",
    "    data['Country'].append(cols[3].get_text())\n",
    "    data['Name'].append(cols[4].get_text())\n",
    "    data['Latency'].append(cols[5].get_text())\n",
    "    data['Speed'].append(cols[6].get_text())\n",
    "    data['Uptime'].append(cols[7].get_text())\n",
    "    data['Checkdate'].append(cols[8].get_text())"
   ]
  },
  {
   "cell_type": "code",
   "execution_count": 11,
   "metadata": {},
   "outputs": [],
   "source": [
    "proxies2 = pd.DataFrame(data)\n",
    "proxies2 = proxies2[proxies2.Type.str.contains(\"HTTPS\") == True]\n",
    "proxies = proxies2.sort_values(by='Latency')\n",
    "proxies = proxies.reset_index()\n",
    "proxies.to_csv(\"proxylist.csv\")"
   ]
  },
  {
   "cell_type": "code",
   "execution_count": 12,
   "metadata": {},
   "outputs": [
    {
     "name": "stdout",
     "output_type": "stream",
     "text": [
      "185.7.19.173\n"
     ]
    }
   ],
   "source": [
    "# proxy address\n",
    "one = proxies.at[0, 'Address']\n",
    "country = proxies.at[0, 'Country']\n",
    "proxy = re.findall( r'[0-9]+(?:\\.[0-9]+){3}', one)\n",
    "proxy = str(proxy[0])\n",
    "print(proxy)"
   ]
  },
  {
   "cell_type": "code",
   "execution_count": 13,
   "metadata": {},
   "outputs": [
    {
     "name": "stdout",
     "output_type": "stream",
     "text": [
      "8080\n"
     ]
    }
   ],
   "source": [
    "# port number\n",
    "port = one.split(':')[-1]\n",
    "print(port)"
   ]
  },
  {
   "cell_type": "code",
   "execution_count": 14,
   "metadata": {},
   "outputs": [
    {
     "name": "stdout",
     "output_type": "stream",
     "text": [
      "\n",
      "\tAddress: 185.7.19.173 \t Port: 8080 \t Country: Austria (Imst)\n"
     ]
    }
   ],
   "source": [
    "print(\"\\n\\tAddress: \" + proxy + \" \\t Port: \" + port + \" \\t Country: \" + country)"
   ]
  },
  {
   "cell_type": "code",
   "execution_count": 15,
   "metadata": {},
   "outputs": [
    {
     "data": {
      "text/plain": [
       "0"
      ]
     },
     "execution_count": 15,
     "metadata": {},
     "output_type": "execute_result"
    }
   ],
   "source": [
    "command = \"networksetup -setsecurewebproxy Wi-Fi \" + proxy + \" \" + port\n",
    "os.system('echo %s|sudo -S %s' % (sudoPassword, command))\n",
    "command = \"networksetup -setwebproxy Wi-Fi \" + proxy + \" \" + port\n",
    "os.system('echo %s|sudo -S %s' % (sudoPassword, command))"
   ]
  },
  {
   "cell_type": "code",
   "execution_count": 16,
   "metadata": {},
   "outputs": [
    {
     "data": {
      "text/plain": [
       "0"
      ]
     },
     "execution_count": 16,
     "metadata": {},
     "output_type": "execute_result"
    }
   ],
   "source": [
    "os.system(\"networksetup -getsecurewebproxy Wi-Fi\")"
   ]
  },
  {
   "cell_type": "code",
   "execution_count": null,
   "metadata": {},
   "outputs": [],
   "source": []
  }
 ],
 "metadata": {
  "kernelspec": {
   "display_name": "Python 3",
   "language": "python",
   "name": "python3"
  },
  "language_info": {
   "codemirror_mode": {
    "name": "ipython",
    "version": 3
   },
   "file_extension": ".py",
   "mimetype": "text/x-python",
   "name": "python",
   "nbconvert_exporter": "python",
   "pygments_lexer": "ipython3",
   "version": "3.6.4"
  }
 },
 "nbformat": 4,
 "nbformat_minor": 2
}
